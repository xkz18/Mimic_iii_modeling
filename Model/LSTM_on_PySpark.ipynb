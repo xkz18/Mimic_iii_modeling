{
 "cells": [
  {
   "cell_type": "markdown",
   "metadata": {
    "colab_type": "text",
    "id": "rosejkAqxSeC"
   },
   "source": [
    "# **Install JAVA8 and elephas for running distributed deep learning models with Spark**"
   ]
  },
  {
   "cell_type": "code",
   "execution_count": 3,
   "metadata": {
    "colab": {
     "base_uri": "https://localhost:8080/",
     "height": 1000
    },
    "colab_type": "code",
    "id": "GbVLnE-FvpvJ",
    "outputId": "39ca4f8f-dae6-4f98-f11f-52f71ca2494d"
   },
   "outputs": [
    {
     "name": "stdout",
     "output_type": "stream",
     "text": [
      "update-alternatives: using /usr/lib/jvm/java-8-openjdk-amd64/jre/bin/java to provide /usr/bin/java (java) in manual mode\n",
      "Collecting elephas\n",
      "  Downloading https://files.pythonhosted.org/packages/d9/f7/4b1542d95ad17fefff5cfbc0df732f8b082c758ed48d1738768df5cec4da/elephas-0.4.3-py3-none-any.whl\n",
      "Requirement already satisfied: keras in /usr/local/lib/python3.6/dist-packages (from elephas) (2.3.1)\n",
      "Requirement already satisfied: tensorflow in /usr/local/lib/python3.6/dist-packages (from elephas) (2.2.0rc3)\n",
      "Collecting pyspark\n",
      "\u001b[?25l  Downloading https://files.pythonhosted.org/packages/9a/5a/271c416c1c2185b6cb0151b29a91fff6fcaed80173c8584ff6d20e46b465/pyspark-2.4.5.tar.gz (217.8MB)\n",
      "\u001b[K     |████████████████████████████████| 217.8MB 71kB/s \n",
      "\u001b[?25hRequirement already satisfied: cython in /usr/local/lib/python3.6/dist-packages (from elephas) (0.29.16)\n",
      "Requirement already satisfied: six in /usr/local/lib/python3.6/dist-packages (from elephas) (1.12.0)\n",
      "Collecting hyperas\n",
      "  Downloading https://files.pythonhosted.org/packages/04/34/87ad6ffb42df9c1fa9c4c906f65813d42ad70d68c66af4ffff048c228cd4/hyperas-0.4.1-py3-none-any.whl\n",
      "Requirement already satisfied: flask in /usr/local/lib/python3.6/dist-packages (from elephas) (1.1.2)\n",
      "Requirement already satisfied: h5py in /usr/local/lib/python3.6/dist-packages (from keras->elephas) (2.10.0)\n",
      "Requirement already satisfied: keras-applications>=1.0.6 in /usr/local/lib/python3.6/dist-packages (from keras->elephas) (1.0.8)\n",
      "Requirement already satisfied: numpy>=1.9.1 in /usr/local/lib/python3.6/dist-packages (from keras->elephas) (1.18.3)\n",
      "Requirement already satisfied: pyyaml in /usr/local/lib/python3.6/dist-packages (from keras->elephas) (3.13)\n",
      "Requirement already satisfied: scipy>=0.14 in /usr/local/lib/python3.6/dist-packages (from keras->elephas) (1.4.1)\n",
      "Requirement already satisfied: keras-preprocessing>=1.0.5 in /usr/local/lib/python3.6/dist-packages (from keras->elephas) (1.1.0)\n",
      "Requirement already satisfied: astunparse==1.6.3 in /usr/local/lib/python3.6/dist-packages (from tensorflow->elephas) (1.6.3)\n",
      "Requirement already satisfied: opt-einsum>=2.3.2 in /usr/local/lib/python3.6/dist-packages (from tensorflow->elephas) (3.2.1)\n",
      "Requirement already satisfied: protobuf>=3.8.0 in /usr/local/lib/python3.6/dist-packages (from tensorflow->elephas) (3.10.0)\n",
      "Requirement already satisfied: tensorboard<2.3.0,>=2.2.0 in /usr/local/lib/python3.6/dist-packages (from tensorflow->elephas) (2.2.1)\n",
      "Requirement already satisfied: tensorflow-estimator<2.3.0,>=2.2.0rc0 in /usr/local/lib/python3.6/dist-packages (from tensorflow->elephas) (2.2.0)\n",
      "Requirement already satisfied: grpcio>=1.8.6 in /usr/local/lib/python3.6/dist-packages (from tensorflow->elephas) (1.28.1)\n",
      "Requirement already satisfied: absl-py>=0.7.0 in /usr/local/lib/python3.6/dist-packages (from tensorflow->elephas) (0.9.0)\n",
      "Requirement already satisfied: termcolor>=1.1.0 in /usr/local/lib/python3.6/dist-packages (from tensorflow->elephas) (1.1.0)\n",
      "Requirement already satisfied: wheel>=0.26; python_version >= \"3\" in /usr/local/lib/python3.6/dist-packages (from tensorflow->elephas) (0.34.2)\n",
      "Requirement already satisfied: wrapt>=1.11.1 in /usr/local/lib/python3.6/dist-packages (from tensorflow->elephas) (1.12.1)\n",
      "Requirement already satisfied: google-pasta>=0.1.8 in /usr/local/lib/python3.6/dist-packages (from tensorflow->elephas) (0.2.0)\n",
      "Requirement already satisfied: gast==0.3.3 in /usr/local/lib/python3.6/dist-packages (from tensorflow->elephas) (0.3.3)\n",
      "Collecting py4j==0.10.7\n",
      "\u001b[?25l  Downloading https://files.pythonhosted.org/packages/e3/53/c737818eb9a7dc32a7cd4f1396e787bd94200c3997c72c1dbe028587bd76/py4j-0.10.7-py2.py3-none-any.whl (197kB)\n",
      "\u001b[K     |████████████████████████████████| 204kB 51.9MB/s \n",
      "\u001b[?25hRequirement already satisfied: jupyter in /usr/local/lib/python3.6/dist-packages (from hyperas->elephas) (1.0.0)\n",
      "Requirement already satisfied: nbconvert in /usr/local/lib/python3.6/dist-packages (from hyperas->elephas) (5.6.1)\n",
      "Requirement already satisfied: entrypoints in /usr/local/lib/python3.6/dist-packages (from hyperas->elephas) (0.3)\n",
      "Requirement already satisfied: hyperopt in /usr/local/lib/python3.6/dist-packages (from hyperas->elephas) (0.1.2)\n",
      "Requirement already satisfied: nbformat in /usr/local/lib/python3.6/dist-packages (from hyperas->elephas) (5.0.6)\n",
      "Requirement already satisfied: Jinja2>=2.10.1 in /usr/local/lib/python3.6/dist-packages (from flask->elephas) (2.11.2)\n",
      "Requirement already satisfied: Werkzeug>=0.15 in /usr/local/lib/python3.6/dist-packages (from flask->elephas) (1.0.1)\n",
      "Requirement already satisfied: itsdangerous>=0.24 in /usr/local/lib/python3.6/dist-packages (from flask->elephas) (1.1.0)\n",
      "Requirement already satisfied: click>=5.1 in /usr/local/lib/python3.6/dist-packages (from flask->elephas) (7.1.1)\n",
      "Requirement already satisfied: setuptools in /usr/local/lib/python3.6/dist-packages (from protobuf>=3.8.0->tensorflow->elephas) (46.1.3)\n",
      "Requirement already satisfied: google-auth-oauthlib<0.5,>=0.4.1 in /usr/local/lib/python3.6/dist-packages (from tensorboard<2.3.0,>=2.2.0->tensorflow->elephas) (0.4.1)\n",
      "Requirement already satisfied: requests<3,>=2.21.0 in /usr/local/lib/python3.6/dist-packages (from tensorboard<2.3.0,>=2.2.0->tensorflow->elephas) (2.21.0)\n",
      "Requirement already satisfied: tensorboard-plugin-wit>=1.6.0 in /usr/local/lib/python3.6/dist-packages (from tensorboard<2.3.0,>=2.2.0->tensorflow->elephas) (1.6.0.post3)\n",
      "Requirement already satisfied: google-auth<2,>=1.6.3 in /usr/local/lib/python3.6/dist-packages (from tensorboard<2.3.0,>=2.2.0->tensorflow->elephas) (1.7.2)\n",
      "Requirement already satisfied: markdown>=2.6.8 in /usr/local/lib/python3.6/dist-packages (from tensorboard<2.3.0,>=2.2.0->tensorflow->elephas) (3.2.1)\n",
      "Requirement already satisfied: jupyter-console in /usr/local/lib/python3.6/dist-packages (from jupyter->hyperas->elephas) (5.2.0)\n",
      "Requirement already satisfied: qtconsole in /usr/local/lib/python3.6/dist-packages (from jupyter->hyperas->elephas) (4.7.3)\n",
      "Requirement already satisfied: ipywidgets in /usr/local/lib/python3.6/dist-packages (from jupyter->hyperas->elephas) (7.5.1)\n",
      "Requirement already satisfied: ipykernel in /usr/local/lib/python3.6/dist-packages (from jupyter->hyperas->elephas) (4.10.1)\n",
      "Requirement already satisfied: notebook in /usr/local/lib/python3.6/dist-packages (from jupyter->hyperas->elephas) (5.2.2)\n",
      "Requirement already satisfied: jupyter-core in /usr/local/lib/python3.6/dist-packages (from nbconvert->hyperas->elephas) (4.6.3)\n",
      "Requirement already satisfied: bleach in /usr/local/lib/python3.6/dist-packages (from nbconvert->hyperas->elephas) (3.1.4)\n",
      "Requirement already satisfied: pygments in /usr/local/lib/python3.6/dist-packages (from nbconvert->hyperas->elephas) (2.1.3)\n",
      "Requirement already satisfied: testpath in /usr/local/lib/python3.6/dist-packages (from nbconvert->hyperas->elephas) (0.4.4)\n",
      "Requirement already satisfied: traitlets>=4.2 in /usr/local/lib/python3.6/dist-packages (from nbconvert->hyperas->elephas) (4.3.3)\n",
      "Requirement already satisfied: defusedxml in /usr/local/lib/python3.6/dist-packages (from nbconvert->hyperas->elephas) (0.6.0)\n",
      "Requirement already satisfied: pandocfilters>=1.4.1 in /usr/local/lib/python3.6/dist-packages (from nbconvert->hyperas->elephas) (1.4.2)\n",
      "Requirement already satisfied: mistune<2,>=0.8.1 in /usr/local/lib/python3.6/dist-packages (from nbconvert->hyperas->elephas) (0.8.4)\n",
      "Requirement already satisfied: tqdm in /usr/local/lib/python3.6/dist-packages (from hyperopt->hyperas->elephas) (4.38.0)\n",
      "Requirement already satisfied: future in /usr/local/lib/python3.6/dist-packages (from hyperopt->hyperas->elephas) (0.16.0)\n",
      "Requirement already satisfied: networkx in /usr/local/lib/python3.6/dist-packages (from hyperopt->hyperas->elephas) (2.4)\n",
      "Requirement already satisfied: pymongo in /usr/local/lib/python3.6/dist-packages (from hyperopt->hyperas->elephas) (3.10.1)\n",
      "Requirement already satisfied: jsonschema!=2.5.0,>=2.4 in /usr/local/lib/python3.6/dist-packages (from nbformat->hyperas->elephas) (2.6.0)\n",
      "Requirement already satisfied: ipython-genutils in /usr/local/lib/python3.6/dist-packages (from nbformat->hyperas->elephas) (0.2.0)\n",
      "Requirement already satisfied: MarkupSafe>=0.23 in /usr/local/lib/python3.6/dist-packages (from Jinja2>=2.10.1->flask->elephas) (1.1.1)\n",
      "Requirement already satisfied: requests-oauthlib>=0.7.0 in /usr/local/lib/python3.6/dist-packages (from google-auth-oauthlib<0.5,>=0.4.1->tensorboard<2.3.0,>=2.2.0->tensorflow->elephas) (1.3.0)\n",
      "Requirement already satisfied: certifi>=2017.4.17 in /usr/local/lib/python3.6/dist-packages (from requests<3,>=2.21.0->tensorboard<2.3.0,>=2.2.0->tensorflow->elephas) (2020.4.5.1)\n",
      "Requirement already satisfied: urllib3<1.25,>=1.21.1 in /usr/local/lib/python3.6/dist-packages (from requests<3,>=2.21.0->tensorboard<2.3.0,>=2.2.0->tensorflow->elephas) (1.24.3)\n",
      "Requirement already satisfied: idna<2.9,>=2.5 in /usr/local/lib/python3.6/dist-packages (from requests<3,>=2.21.0->tensorboard<2.3.0,>=2.2.0->tensorflow->elephas) (2.8)\n",
      "Requirement already satisfied: chardet<3.1.0,>=3.0.2 in /usr/local/lib/python3.6/dist-packages (from requests<3,>=2.21.0->tensorboard<2.3.0,>=2.2.0->tensorflow->elephas) (3.0.4)\n",
      "Requirement already satisfied: pyasn1-modules>=0.2.1 in /usr/local/lib/python3.6/dist-packages (from google-auth<2,>=1.6.3->tensorboard<2.3.0,>=2.2.0->tensorflow->elephas) (0.2.8)\n",
      "Requirement already satisfied: rsa<4.1,>=3.1.4 in /usr/local/lib/python3.6/dist-packages (from google-auth<2,>=1.6.3->tensorboard<2.3.0,>=2.2.0->tensorflow->elephas) (4.0)\n",
      "Requirement already satisfied: cachetools<3.2,>=2.0.0 in /usr/local/lib/python3.6/dist-packages (from google-auth<2,>=1.6.3->tensorboard<2.3.0,>=2.2.0->tensorflow->elephas) (3.1.1)\n",
      "Requirement already satisfied: jupyter-client in /usr/local/lib/python3.6/dist-packages (from jupyter-console->jupyter->hyperas->elephas) (5.3.4)\n",
      "Requirement already satisfied: prompt-toolkit<2.0.0,>=1.0.0 in /usr/local/lib/python3.6/dist-packages (from jupyter-console->jupyter->hyperas->elephas) (1.0.18)\n",
      "Requirement already satisfied: ipython in /usr/local/lib/python3.6/dist-packages (from jupyter-console->jupyter->hyperas->elephas) (5.5.0)\n",
      "Requirement already satisfied: qtpy in /usr/local/lib/python3.6/dist-packages (from qtconsole->jupyter->hyperas->elephas) (1.9.0)\n",
      "Requirement already satisfied: pyzmq>=17.1 in /usr/local/lib/python3.6/dist-packages (from qtconsole->jupyter->hyperas->elephas) (19.0.0)\n",
      "Requirement already satisfied: widgetsnbextension~=3.5.0 in /usr/local/lib/python3.6/dist-packages (from ipywidgets->jupyter->hyperas->elephas) (3.5.1)\n",
      "Requirement already satisfied: tornado>=4.0 in /usr/local/lib/python3.6/dist-packages (from ipykernel->jupyter->hyperas->elephas) (4.5.3)\n",
      "Requirement already satisfied: terminado>=0.3.3; sys_platform != \"win32\" in /usr/local/lib/python3.6/dist-packages (from notebook->jupyter->hyperas->elephas) (0.8.3)\n",
      "Requirement already satisfied: webencodings in /usr/local/lib/python3.6/dist-packages (from bleach->nbconvert->hyperas->elephas) (0.5.1)\n",
      "Requirement already satisfied: decorator in /usr/local/lib/python3.6/dist-packages (from traitlets>=4.2->nbconvert->hyperas->elephas) (4.4.2)\n",
      "Requirement already satisfied: oauthlib>=3.0.0 in /usr/local/lib/python3.6/dist-packages (from requests-oauthlib>=0.7.0->google-auth-oauthlib<0.5,>=0.4.1->tensorboard<2.3.0,>=2.2.0->tensorflow->elephas) (3.1.0)\n",
      "Requirement already satisfied: pyasn1<0.5.0,>=0.4.6 in /usr/local/lib/python3.6/dist-packages (from pyasn1-modules>=0.2.1->google-auth<2,>=1.6.3->tensorboard<2.3.0,>=2.2.0->tensorflow->elephas) (0.4.8)\n",
      "Requirement already satisfied: python-dateutil>=2.1 in /usr/local/lib/python3.6/dist-packages (from jupyter-client->jupyter-console->jupyter->hyperas->elephas) (2.8.1)\n",
      "Requirement already satisfied: wcwidth in /usr/local/lib/python3.6/dist-packages (from prompt-toolkit<2.0.0,>=1.0.0->jupyter-console->jupyter->hyperas->elephas) (0.1.9)\n",
      "Requirement already satisfied: pexpect; sys_platform != \"win32\" in /usr/local/lib/python3.6/dist-packages (from ipython->jupyter-console->jupyter->hyperas->elephas) (4.8.0)\n",
      "Requirement already satisfied: pickleshare in /usr/local/lib/python3.6/dist-packages (from ipython->jupyter-console->jupyter->hyperas->elephas) (0.7.5)\n",
      "Requirement already satisfied: simplegeneric>0.8 in /usr/local/lib/python3.6/dist-packages (from ipython->jupyter-console->jupyter->hyperas->elephas) (0.8.1)\n",
      "Requirement already satisfied: ptyprocess; os_name != \"nt\" in /usr/local/lib/python3.6/dist-packages (from terminado>=0.3.3; sys_platform != \"win32\"->notebook->jupyter->hyperas->elephas) (0.6.0)\n",
      "Building wheels for collected packages: pyspark\n",
      "  Building wheel for pyspark (setup.py) ... \u001b[?25l\u001b[?25hdone\n",
      "  Created wheel for pyspark: filename=pyspark-2.4.5-py2.py3-none-any.whl size=218257927 sha256=863d7a42aea77f97a47a23eca74c3c402d14f8a77897fa4457f5937c8a5ed82c\n",
      "  Stored in directory: /root/.cache/pip/wheels/bf/db/04/61d66a5939364e756eb1c1be4ec5bdce6e04047fc7929a3c3c\n",
      "Successfully built pyspark\n",
      "Installing collected packages: py4j, pyspark, hyperas, elephas\n",
      "Successfully installed elephas-0.4.3 hyperas-0.4.1 py4j-0.10.7 pyspark-2.4.5\n"
     ]
    }
   ],
   "source": [
    "# get JAVA8 for PySpark\n",
    "!apt-get install openjdk-8-jdk-headless -qq > /dev/null\n",
    "import os\n",
    "os.environ[\"JAVA_HOME\"] = \"/usr/lib/jvm/java-8-openjdk-amd64\"\n",
    "!update-alternatives --set java /usr/lib/jvm/java-8-openjdk-amd64/jre/bin/java\n",
    "\n",
    "# install elephas library for running distributed deep learning models at scale with Spark\n",
    "!pip install elephas"
   ]
  },
  {
   "cell_type": "code",
   "execution_count": 4,
   "metadata": {
    "colab": {
     "base_uri": "https://localhost:8080/",
     "height": 68
    },
    "colab_type": "code",
    "id": "LHbRt1-hvwSt",
    "outputId": "97fe8281-4cac-404e-d311-2198955046c1"
   },
   "outputs": [
    {
     "name": "stdout",
     "output_type": "stream",
     "text": [
      "openjdk version \"1.8.0_242\"\n",
      "OpenJDK Runtime Environment (build 1.8.0_242-8u242-b08-0ubuntu3~18.04-b08)\n",
      "OpenJDK 64-Bit Server VM (build 25.242-b08, mixed mode)\n"
     ]
    }
   ],
   "source": [
    "#Check Java version.  \n",
    "! java -version"
   ]
  },
  {
   "cell_type": "code",
   "execution_count": 5,
   "metadata": {
    "colab": {
     "base_uri": "https://localhost:8080/",
     "height": 51
    },
    "colab_type": "code",
    "id": "QaWBdadFvx2Q",
    "outputId": "37773c97-8069-4485-b1e1-9ee0c5391f2f"
   },
   "outputs": [
    {
     "name": "stderr",
     "output_type": "stream",
     "text": [
      "Using TensorFlow backend.\n"
     ]
    },
    {
     "name": "stdout",
     "output_type": "stream",
     "text": [
      "WARNING\n"
     ]
    }
   ],
   "source": [
    "from pyspark import SparkContext, SparkConf\n",
    "from pyspark.sql import SQLContext\n",
    "from pyspark.ml import Pipeline\n",
    "from pyspark.sql.functions import rand\n",
    "from pyspark import SparkContext, SparkConf\n",
    "from elephas.spark_model import SparkModel\n",
    "from elephas.utils.rdd_utils import to_simple_rdd\n",
    "\n",
    "# initiatw Spark context\n",
    "conf = SparkConf().setAppName('lstm').setMaster('local[4]')\n",
    "sc = SparkContext(conf=conf)"
   ]
  },
  {
   "cell_type": "markdown",
   "metadata": {
    "colab_type": "text",
    "id": "DeDbR2LdxtEL"
   },
   "source": [
    "# **Data Preprocessing**"
   ]
  },
  {
   "cell_type": "code",
   "execution_count": 6,
   "metadata": {
    "colab": {
     "base_uri": "https://localhost:8080/",
     "height": 51
    },
    "colab_type": "code",
    "id": "xUlQ2ithv0y4",
    "outputId": "cbc6ea7b-2b4a-4a19-ac79-8a7bf9607a2e"
   },
   "outputs": [
    {
     "name": "stdout",
     "output_type": "stream",
     "text": [
      "(1073667, 9)\n",
      "(441590, 9)\n"
     ]
    }
   ],
   "source": [
    "import keras\n",
    "import pandas as pd\n",
    "import numpy as np\n",
    "import matplotlib.pyplot as plt\n",
    "from sklearn import preprocessing\n",
    "from sklearn.metrics import *\n",
    "from sklearn.model_selection import train_test_split\n",
    "from keras.models import Sequential,load_model\n",
    "from keras.layers import Dense, Dropout, LSTM\n",
    "from keras import metrics\n",
    "import os\n",
    "\n",
    "# set seeds\n",
    "np.random.seed(666)  \n",
    "\n",
    "# read in time series data \n",
    "df = pd.read_csv('/content/drive/My Drive/CSE6250 2020 Spring Project/mp_data/mp_lstm.csv')\n",
    "print(df.shape)\n",
    "df.head()\n",
    "\n",
    "features = ['heartrate', 'sysbp', 'diasbp', 'meanbp', 'resprate', 'spo2']\n",
    "\n",
    "# function to calculate the percentage of NaN in one patient for a specific feature    \n",
    "def NaN_percent (x):\n",
    "  return  sum(np.isnan(x).values)/len(x)\n",
    "\n",
    "# get the percentage of NaN in one patient for a specific feature \n",
    "heartrate = pd.DataFrame(df.groupby('icustay_id')['heartrate'].apply(lambda x:NaN_percent(x))).reset_index()\n",
    "sysbp = pd.DataFrame(df.groupby('icustay_id')['sysbp'].apply(lambda x:NaN_percent(x))).reset_index()\n",
    "diasbp = pd.DataFrame(df.groupby('icustay_id')['diasbp'].apply(lambda x:NaN_percent(x))).reset_index()\n",
    "meanbp = pd.DataFrame(df.groupby('icustay_id')['meanbp'].apply(lambda x:NaN_percent(x))).reset_index()\n",
    "resprate = pd.DataFrame(df.groupby('icustay_id')['resprate'].apply(lambda x:NaN_percent(x))).reset_index()\n",
    "spo2 = pd.DataFrame(df.groupby('icustay_id')['spo2'].apply(lambda x:NaN_percent(x))).reset_index()\n",
    "\n",
    "#  filter out features which has more than 30% NaN for a specific patient\n",
    "thershold = 0.3\n",
    "heartrate = heartrate[heartrate.heartrate<thershold].icustay_id\n",
    "sysbp = sysbp[sysbp.sysbp<thershold].icustay_id\n",
    "diasbp = diasbp[diasbp.diasbp<thershold].icustay_id\n",
    "meanbp = meanbp[meanbp.meanbp<thershold].icustay_id\n",
    "resprate = resprate[resprate.resprate<thershold].icustay_id\n",
    "spo2 = spo2[spo2.spo2<thershold].icustay_id\n",
    "\n",
    "# keep patients whose 6 features all have less than 30% NaN\n",
    "valid_icustay_id = list(set(heartrate)&set(sysbp)&set(diasbp)&set(meanbp)&set(resprate)&set(spo2))\n",
    "\n",
    "df = df[df.icustay_id.isin(valid_icustay_id)]\n",
    "print (df.shape)"
   ]
  },
  {
   "cell_type": "code",
   "execution_count": 7,
   "metadata": {
    "colab": {
     "base_uri": "https://localhost:8080/",
     "height": 51
    },
    "colab_type": "code",
    "id": "MLAtMUL5fV-I",
    "outputId": "42d8434d-dec7-4c39-bb0e-859d83c56fa6"
   },
   "outputs": [
    {
     "name": "stdout",
     "output_type": "stream",
     "text": [
      "(343925, 9)\n",
      "Train-test split: 11005 2752\n"
     ]
    }
   ],
   "source": [
    "# Filter out patient whose ICU stay is shorter than 20 hours\n",
    "id_stay_more_than_20 = pd.DataFrame(df.groupby('icustay_id')['hr'].apply(len)==25).rename(columns={'hr':'stay'}).reset_index()\n",
    "id_stay_more_than_20 = id_stay_more_than_20[id_stay_more_than_20.stay==True]\n",
    "id_stay_more_than_20\n",
    "\n",
    "df = df[df.icustay_id.isin(id_stay_more_than_20.icustay_id)]\n",
    "\n",
    "# impute missing data with median\n",
    "print (df.shape)\n",
    "for col in features:\n",
    "    df[col].fillna(df[col].median(), inplace=True)\n",
    "\n",
    "# split data for training and testing\n",
    "id_train, id_test = train_test_split(df.icustay_id.unique(), test_size=0.2, random_state=0)\n",
    "id_train.sort()\n",
    "id_test.sort()\n",
    "print('Train-test split:', id_train.shape[0], id_test.shape[0])\n"
   ]
  },
  {
   "cell_type": "code",
   "execution_count": 8,
   "metadata": {
    "colab": {
     "base_uri": "https://localhost:8080/",
     "height": 136
    },
    "colab_type": "code",
    "id": "oshaGSm4v2qo",
    "outputId": "118c5963-45f6-4c00-c597-ca37be0d3126"
   },
   "outputs": [
    {
     "name": "stderr",
     "output_type": "stream",
     "text": [
      "/usr/local/lib/python3.6/dist-packages/pandas/core/generic.py:5303: SettingWithCopyWarning: \n",
      "A value is trying to be set on a copy of a slice from a DataFrame.\n",
      "Try using .loc[row_indexer,col_indexer] = value instead\n",
      "\n",
      "See the caveats in the documentation: https://pandas.pydata.org/pandas-docs/stable/user_guide/indexing.html#returning-a-view-versus-a-copy\n",
      "  self[name] = value\n"
     ]
    },
    {
     "name": "stdout",
     "output_type": "stream",
     "text": [
      "There are 6 features in the training set\n"
     ]
    }
   ],
   "source": [
    "train = df[df.icustay_id.isin(id_train)]\n",
    "\n",
    "#balance training data for hospital_expire_flag =1 and =0\n",
    "rs1=train[train.hospital_expire_flag==1]\n",
    "rs2=rs1.copy()\n",
    "rs3=rs1.copy()\n",
    "rs4=rs1.copy()\n",
    "rs5=rs1.copy()\n",
    "rs6=rs1.copy()\n",
    "\n",
    "rs1.icustay_id=rs1.icustay_id+100000\n",
    "rs2.icustay_id=rs2.icustay_id+200000\n",
    "rs3.icustay_id=rs3.icustay_id+300000\n",
    "rs4.icustay_id=rs4.icustay_id+400000\n",
    "rs5.icustay_id=rs5.icustay_id+500000\n",
    "rs6.icustay_id=rs6.icustay_id+600000\n",
    "\n",
    "train=pd.concat([train, rs1, rs2,rs3,rs4,rs5,rs6])\n",
    "\n",
    "timesteps = 24\n",
    "\n",
    "# function to reshape features into (samples, time steps, features) \n",
    "def transform(df, seq_length, seq_cols):\n",
    "    df = df[seq_cols].values\n",
    "    num = df.shape[0]\n",
    "    for start, stop in zip(range(0, num-seq_length), range(seq_length, num)):\n",
    "        yield df[start:stop, :]\n",
    "\n",
    "\n",
    "\n",
    "# generator for the sequences\n",
    "X_train = (list(transform(train[train['icustay_id']==icustay_id], timesteps, features)) \n",
    "           for icustay_id in train['icustay_id'].unique())\n",
    "\n",
    "# generate sequences and convert to numpy array\n",
    "X_train = np.concatenate(list(X_train)).astype(np.float32)\n",
    "X_train.shape\n",
    "\n",
    "# function to generate labels\n",
    "def labels(df, seq_length, label):\n",
    "    df = df[label].values\n",
    "    num = df.shape[0]\n",
    "    return df[seq_length:num,:]\n",
    "\n",
    "# generate labels\n",
    "y_train = [labels(train[train['icustay_id']==icustay_id], timesteps, ['hospital_expire_flag']) \n",
    "             for icustay_id in train['icustay_id'].unique()]\n",
    "y_train = np.concatenate(y_train).astype(np.float32)\n",
    "y_train.shape\n",
    "\n",
    "nb_features = X_train.shape[2]\n",
    "nb_out = y_train.shape[1]\n",
    "\n",
    "print ('There are {0} features in the training set'.format(nb_features))"
   ]
  },
  {
   "cell_type": "markdown",
   "metadata": {
    "colab_type": "text",
    "id": "RAVnqGGrxAxG"
   },
   "source": [
    "# **Train LSTM model using PySpark**"
   ]
  },
  {
   "cell_type": "code",
   "execution_count": 63,
   "metadata": {
    "colab": {
     "base_uri": "https://localhost:8080/",
     "height": 1000
    },
    "colab_type": "code",
    "id": "eX7ti7gl41uf",
    "outputId": "94ca26a2-25c3-4520-e356-0c9af1ad35cf"
   },
   "outputs": [
    {
     "name": "stdout",
     "output_type": "stream",
     "text": [
      "Model: \"sequential_20\"\n",
      "_________________________________________________________________\n",
      "Layer (type)                 Output Shape              Param #   \n",
      "=================================================================\n",
      "dense_39 (Dense)             (None, 24, 300)           2100      \n",
      "_________________________________________________________________\n",
      "dropout_39 (Dropout)         (None, 24, 300)           0         \n",
      "_________________________________________________________________\n",
      "lstm_20 (LSTM)               (None, 200)               400800    \n",
      "_________________________________________________________________\n",
      "dropout_40 (Dropout)         (None, 200)               0         \n",
      "_________________________________________________________________\n",
      "dense_40 (Dense)             (None, 1)                 201       \n",
      "=================================================================\n",
      "Total params: 403,101\n",
      "Trainable params: 403,101\n",
      "Non-trainable params: 0\n",
      "_________________________________________________________________\n",
      "None\n",
      ">>> Fit model\n",
      " * Serving Flask app \"elephas.parameter.server\" (lazy loading)\n",
      " * Environment: production\n",
      "\u001b[31m   WARNING: This is a development server. Do not use it in a production deployment.\u001b[0m\n",
      "\u001b[2m   Use a production WSGI server instead.\u001b[0m\n",
      " * Debug mode: off\n"
     ]
    },
    {
     "name": "stderr",
     "output_type": "stream",
     "text": [
      " * Running on http://172.28.0.2:4000/ (Press CTRL+C to quit)\n"
     ]
    },
    {
     "name": "stdout",
     "output_type": "stream",
     "text": [
      ">>> Initialize workers\n",
      ">>> Distribute load\n"
     ]
    },
    {
     "name": "stderr",
     "output_type": "stream",
     "text": [
      "172.28.0.2 - - [27/Apr/2020 03:14:15] \"\u001b[37mGET /parameters HTTP/1.1\u001b[0m\" 200 -\n",
      "172.28.0.2 - - [27/Apr/2020 03:14:15] \"\u001b[37mGET /parameters HTTP/1.1\u001b[0m\" 200 -\n",
      "172.28.0.2 - - [27/Apr/2020 03:14:15] \"\u001b[37mGET /parameters HTTP/1.1\u001b[0m\" 200 -\n",
      "172.28.0.2 - - [27/Apr/2020 03:14:15] \"\u001b[37mGET /parameters HTTP/1.1\u001b[0m\" 200 -\n",
      "172.28.0.2 - - [27/Apr/2020 03:14:25] \"\u001b[37mPOST /update HTTP/1.1\u001b[0m\" 200 -\n",
      "172.28.0.2 - - [27/Apr/2020 03:14:25] \"\u001b[37mGET /parameters HTTP/1.1\u001b[0m\" 200 -\n",
      "172.28.0.2 - - [27/Apr/2020 03:14:25] \"\u001b[37mPOST /update HTTP/1.1\u001b[0m\" 200 -\n",
      "172.28.0.2 - - [27/Apr/2020 03:14:25] \"\u001b[37mGET /parameters HTTP/1.1\u001b[0m\" 200 -\n",
      "172.28.0.2 - - [27/Apr/2020 03:14:25] \"\u001b[37mPOST /update HTTP/1.1\u001b[0m\" 200 -\n",
      "172.28.0.2 - - [27/Apr/2020 03:14:25] \"\u001b[37mGET /parameters HTTP/1.1\u001b[0m\" 200 -\n",
      "172.28.0.2 - - [27/Apr/2020 03:14:26] \"\u001b[37mPOST /update HTTP/1.1\u001b[0m\" 200 -\n",
      "172.28.0.2 - - [27/Apr/2020 03:14:26] \"\u001b[37mGET /parameters HTTP/1.1\u001b[0m\" 200 -\n",
      "172.28.0.2 - - [27/Apr/2020 03:14:28] \"\u001b[37mPOST /update HTTP/1.1\u001b[0m\" 200 -\n",
      "172.28.0.2 - - [27/Apr/2020 03:14:28] \"\u001b[37mGET /parameters HTTP/1.1\u001b[0m\" 200 -\n",
      "172.28.0.2 - - [27/Apr/2020 03:14:29] \"\u001b[37mPOST /update HTTP/1.1\u001b[0m\" 200 -\n",
      "172.28.0.2 - - [27/Apr/2020 03:14:29] \"\u001b[37mGET /parameters HTTP/1.1\u001b[0m\" 200 -\n",
      "172.28.0.2 - - [27/Apr/2020 03:14:30] \"\u001b[37mPOST /update HTTP/1.1\u001b[0m\" 200 -\n",
      "172.28.0.2 - - [27/Apr/2020 03:14:30] \"\u001b[37mGET /parameters HTTP/1.1\u001b[0m\" 200 -\n",
      "172.28.0.2 - - [27/Apr/2020 03:14:31] \"\u001b[37mPOST /update HTTP/1.1\u001b[0m\" 200 -\n",
      "172.28.0.2 - - [27/Apr/2020 03:14:31] \"\u001b[37mGET /parameters HTTP/1.1\u001b[0m\" 200 -\n",
      "172.28.0.2 - - [27/Apr/2020 03:14:33] \"\u001b[37mPOST /update HTTP/1.1\u001b[0m\" 200 -\n",
      "172.28.0.2 - - [27/Apr/2020 03:14:33] \"\u001b[37mGET /parameters HTTP/1.1\u001b[0m\" 200 -\n",
      "172.28.0.2 - - [27/Apr/2020 03:14:34] \"\u001b[37mPOST /update HTTP/1.1\u001b[0m\" 200 -\n",
      "172.28.0.2 - - [27/Apr/2020 03:14:34] \"\u001b[37mGET /parameters HTTP/1.1\u001b[0m\" 200 -\n",
      "172.28.0.2 - - [27/Apr/2020 03:14:36] \"\u001b[37mPOST /update HTTP/1.1\u001b[0m\" 200 -\n",
      "172.28.0.2 - - [27/Apr/2020 03:14:36] \"\u001b[37mGET /parameters HTTP/1.1\u001b[0m\" 200 -\n",
      "172.28.0.2 - - [27/Apr/2020 03:14:36] \"\u001b[37mPOST /update HTTP/1.1\u001b[0m\" 200 -\n",
      "172.28.0.2 - - [27/Apr/2020 03:14:37] \"\u001b[37mGET /parameters HTTP/1.1\u001b[0m\" 200 -\n",
      "172.28.0.2 - - [27/Apr/2020 03:14:37] \"\u001b[37mPOST /update HTTP/1.1\u001b[0m\" 200 -\n",
      "172.28.0.2 - - [27/Apr/2020 03:14:37] \"\u001b[37mGET /parameters HTTP/1.1\u001b[0m\" 200 -\n",
      "172.28.0.2 - - [27/Apr/2020 03:14:40] \"\u001b[37mPOST /update HTTP/1.1\u001b[0m\" 200 -\n",
      "172.28.0.2 - - [27/Apr/2020 03:14:40] \"\u001b[37mGET /parameters HTTP/1.1\u001b[0m\" 200 -\n",
      "172.28.0.2 - - [27/Apr/2020 03:14:40] \"\u001b[37mPOST /update HTTP/1.1\u001b[0m\" 200 -\n",
      "172.28.0.2 - - [27/Apr/2020 03:14:40] \"\u001b[37mGET /parameters HTTP/1.1\u001b[0m\" 200 -\n",
      "172.28.0.2 - - [27/Apr/2020 03:14:41] \"\u001b[37mPOST /update HTTP/1.1\u001b[0m\" 200 -\n",
      "172.28.0.2 - - [27/Apr/2020 03:14:41] \"\u001b[37mGET /parameters HTTP/1.1\u001b[0m\" 200 -\n",
      "172.28.0.2 - - [27/Apr/2020 03:14:42] \"\u001b[37mPOST /update HTTP/1.1\u001b[0m\" 200 -\n",
      "172.28.0.2 - - [27/Apr/2020 03:14:42] \"\u001b[37mGET /parameters HTTP/1.1\u001b[0m\" 200 -\n",
      "172.28.0.2 - - [27/Apr/2020 03:14:45] \"\u001b[37mPOST /update HTTP/1.1\u001b[0m\" 200 -\n",
      "172.28.0.2 - - [27/Apr/2020 03:14:45] \"\u001b[37mGET /parameters HTTP/1.1\u001b[0m\" 200 -\n",
      "172.28.0.2 - - [27/Apr/2020 03:14:45] \"\u001b[37mPOST /update HTTP/1.1\u001b[0m\" 200 -\n",
      "172.28.0.2 - - [27/Apr/2020 03:14:46] \"\u001b[37mGET /parameters HTTP/1.1\u001b[0m\" 200 -\n",
      "172.28.0.2 - - [27/Apr/2020 03:14:46] \"\u001b[37mPOST /update HTTP/1.1\u001b[0m\" 200 -\n",
      "172.28.0.2 - - [27/Apr/2020 03:14:46] \"\u001b[37mGET /parameters HTTP/1.1\u001b[0m\" 200 -\n",
      "172.28.0.2 - - [27/Apr/2020 03:14:48] \"\u001b[37mPOST /update HTTP/1.1\u001b[0m\" 200 -\n",
      "172.28.0.2 - - [27/Apr/2020 03:14:48] \"\u001b[37mGET /parameters HTTP/1.1\u001b[0m\" 200 -\n",
      "172.28.0.2 - - [27/Apr/2020 03:14:49] \"\u001b[37mPOST /update HTTP/1.1\u001b[0m\" 200 -\n",
      "172.28.0.2 - - [27/Apr/2020 03:14:49] \"\u001b[37mGET /parameters HTTP/1.1\u001b[0m\" 200 -\n",
      "172.28.0.2 - - [27/Apr/2020 03:14:49] \"\u001b[37mPOST /update HTTP/1.1\u001b[0m\" 200 -\n",
      "172.28.0.2 - - [27/Apr/2020 03:14:49] \"\u001b[37mGET /parameters HTTP/1.1\u001b[0m\" 200 -\n",
      "172.28.0.2 - - [27/Apr/2020 03:14:52] \"\u001b[37mPOST /update HTTP/1.1\u001b[0m\" 200 -\n",
      "172.28.0.2 - - [27/Apr/2020 03:14:52] \"\u001b[37mGET /parameters HTTP/1.1\u001b[0m\" 200 -\n",
      "172.28.0.2 - - [27/Apr/2020 03:14:53] \"\u001b[37mPOST /update HTTP/1.1\u001b[0m\" 200 -\n",
      "172.28.0.2 - - [27/Apr/2020 03:14:53] \"\u001b[37mGET /parameters HTTP/1.1\u001b[0m\" 200 -\n",
      "172.28.0.2 - - [27/Apr/2020 03:14:53] \"\u001b[37mPOST /update HTTP/1.1\u001b[0m\" 200 -\n",
      "172.28.0.2 - - [27/Apr/2020 03:14:53] \"\u001b[37mGET /parameters HTTP/1.1\u001b[0m\" 200 -\n",
      "172.28.0.2 - - [27/Apr/2020 03:14:54] \"\u001b[37mPOST /update HTTP/1.1\u001b[0m\" 200 -\n",
      "172.28.0.2 - - [27/Apr/2020 03:14:54] \"\u001b[37mGET /parameters HTTP/1.1\u001b[0m\" 200 -\n",
      "172.28.0.2 - - [27/Apr/2020 03:14:57] \"\u001b[37mPOST /update HTTP/1.1\u001b[0m\" 200 -\n",
      "172.28.0.2 - - [27/Apr/2020 03:14:57] \"\u001b[37mGET /parameters HTTP/1.1\u001b[0m\" 200 -\n",
      "172.28.0.2 - - [27/Apr/2020 03:14:58] \"\u001b[37mPOST /update HTTP/1.1\u001b[0m\" 200 -\n",
      "172.28.0.2 - - [27/Apr/2020 03:14:58] \"\u001b[37mGET /parameters HTTP/1.1\u001b[0m\" 200 -\n",
      "172.28.0.2 - - [27/Apr/2020 03:14:58] \"\u001b[37mPOST /update HTTP/1.1\u001b[0m\" 200 -\n",
      "172.28.0.2 - - [27/Apr/2020 03:14:58] \"\u001b[37mGET /parameters HTTP/1.1\u001b[0m\" 200 -\n",
      "172.28.0.2 - - [27/Apr/2020 03:14:59] \"\u001b[37mPOST /update HTTP/1.1\u001b[0m\" 200 -\n",
      "172.28.0.2 - - [27/Apr/2020 03:14:59] \"\u001b[37mGET /parameters HTTP/1.1\u001b[0m\" 200 -\n",
      "172.28.0.2 - - [27/Apr/2020 03:15:02] \"\u001b[37mPOST /update HTTP/1.1\u001b[0m\" 200 -\n",
      "172.28.0.2 - - [27/Apr/2020 03:15:02] \"\u001b[37mPOST /update HTTP/1.1\u001b[0m\" 200 -\n",
      "172.28.0.2 - - [27/Apr/2020 03:15:02] \"\u001b[37mGET /parameters HTTP/1.1\u001b[0m\" 200 -\n",
      "172.28.0.2 - - [27/Apr/2020 03:15:02] \"\u001b[37mGET /parameters HTTP/1.1\u001b[0m\" 200 -\n",
      "172.28.0.2 - - [27/Apr/2020 03:15:04] \"\u001b[37mPOST /update HTTP/1.1\u001b[0m\" 200 -\n",
      "172.28.0.2 - - [27/Apr/2020 03:15:04] \"\u001b[37mGET /parameters HTTP/1.1\u001b[0m\" 200 -\n",
      "172.28.0.2 - - [27/Apr/2020 03:15:04] \"\u001b[37mPOST /update HTTP/1.1\u001b[0m\" 200 -\n",
      "172.28.0.2 - - [27/Apr/2020 03:15:04] \"\u001b[37mGET /parameters HTTP/1.1\u001b[0m\" 200 -\n",
      "172.28.0.2 - - [27/Apr/2020 03:15:07] \"\u001b[37mPOST /update HTTP/1.1\u001b[0m\" 200 -\n",
      "172.28.0.2 - - [27/Apr/2020 03:15:07] \"\u001b[37mGET /parameters HTTP/1.1\u001b[0m\" 200 -\n",
      "172.28.0.2 - - [27/Apr/2020 03:15:07] \"\u001b[37mPOST /update HTTP/1.1\u001b[0m\" 200 -\n",
      "172.28.0.2 - - [27/Apr/2020 03:15:07] \"\u001b[37mGET /parameters HTTP/1.1\u001b[0m\" 200 -\n",
      "172.28.0.2 - - [27/Apr/2020 03:15:08] \"\u001b[37mPOST /update HTTP/1.1\u001b[0m\" 200 -\n",
      "172.28.0.2 - - [27/Apr/2020 03:15:08] \"\u001b[37mGET /parameters HTTP/1.1\u001b[0m\" 200 -\n",
      "172.28.0.2 - - [27/Apr/2020 03:15:09] \"\u001b[37mPOST /update HTTP/1.1\u001b[0m\" 200 -\n",
      "172.28.0.2 - - [27/Apr/2020 03:15:09] \"\u001b[37mGET /parameters HTTP/1.1\u001b[0m\" 200 -\n",
      "172.28.0.2 - - [27/Apr/2020 03:15:11] \"\u001b[37mPOST /update HTTP/1.1\u001b[0m\" 200 -\n",
      "172.28.0.2 - - [27/Apr/2020 03:15:11] \"\u001b[37mGET /parameters HTTP/1.1\u001b[0m\" 200 -\n",
      "172.28.0.2 - - [27/Apr/2020 03:15:13] \"\u001b[37mPOST /update HTTP/1.1\u001b[0m\" 200 -\n",
      "172.28.0.2 - - [27/Apr/2020 03:15:13] \"\u001b[37mGET /parameters HTTP/1.1\u001b[0m\" 200 -\n",
      "172.28.0.2 - - [27/Apr/2020 03:15:13] \"\u001b[37mPOST /update HTTP/1.1\u001b[0m\" 200 -\n",
      "172.28.0.2 - - [27/Apr/2020 03:15:13] \"\u001b[37mGET /parameters HTTP/1.1\u001b[0m\" 200 -\n",
      "172.28.0.2 - - [27/Apr/2020 03:15:14] \"\u001b[37mPOST /update HTTP/1.1\u001b[0m\" 200 -\n",
      "172.28.0.2 - - [27/Apr/2020 03:15:14] \"\u001b[37mGET /parameters HTTP/1.1\u001b[0m\" 200 -\n",
      "172.28.0.2 - - [27/Apr/2020 03:15:16] \"\u001b[37mPOST /update HTTP/1.1\u001b[0m\" 200 -\n",
      "172.28.0.2 - - [27/Apr/2020 03:15:16] \"\u001b[37mGET /parameters HTTP/1.1\u001b[0m\" 200 -\n",
      "172.28.0.2 - - [27/Apr/2020 03:15:18] \"\u001b[37mPOST /update HTTP/1.1\u001b[0m\" 200 -\n",
      "172.28.0.2 - - [27/Apr/2020 03:15:18] \"\u001b[37mGET /parameters HTTP/1.1\u001b[0m\" 200 -\n",
      "172.28.0.2 - - [27/Apr/2020 03:15:18] \"\u001b[37mPOST /update HTTP/1.1\u001b[0m\" 200 -\n",
      "172.28.0.2 - - [27/Apr/2020 03:15:18] \"\u001b[37mGET /parameters HTTP/1.1\u001b[0m\" 200 -\n",
      "172.28.0.2 - - [27/Apr/2020 03:15:19] \"\u001b[37mPOST /update HTTP/1.1\u001b[0m\" 200 -\n",
      "172.28.0.2 - - [27/Apr/2020 03:15:19] \"\u001b[37mGET /parameters HTTP/1.1\u001b[0m\" 200 -\n",
      "172.28.0.2 - - [27/Apr/2020 03:15:20] \"\u001b[37mPOST /update HTTP/1.1\u001b[0m\" 200 -\n",
      "172.28.0.2 - - [27/Apr/2020 03:15:20] \"\u001b[37mGET /parameters HTTP/1.1\u001b[0m\" 200 -\n",
      "172.28.0.2 - - [27/Apr/2020 03:15:23] \"\u001b[37mPOST /update HTTP/1.1\u001b[0m\" 200 -\n",
      "172.28.0.2 - - [27/Apr/2020 03:15:23] \"\u001b[37mGET /parameters HTTP/1.1\u001b[0m\" 200 -\n",
      "172.28.0.2 - - [27/Apr/2020 03:15:24] \"\u001b[37mPOST /update HTTP/1.1\u001b[0m\" 200 -\n",
      "172.28.0.2 - - [27/Apr/2020 03:15:24] \"\u001b[37mGET /parameters HTTP/1.1\u001b[0m\" 200 -\n",
      "172.28.0.2 - - [27/Apr/2020 03:15:24] \"\u001b[37mPOST /update HTTP/1.1\u001b[0m\" 200 -\n",
      "172.28.0.2 - - [27/Apr/2020 03:15:24] \"\u001b[37mGET /parameters HTTP/1.1\u001b[0m\" 200 -\n",
      "172.28.0.2 - - [27/Apr/2020 03:15:25] \"\u001b[37mPOST /update HTTP/1.1\u001b[0m\" 200 -\n",
      "172.28.0.2 - - [27/Apr/2020 03:15:25] \"\u001b[37mGET /parameters HTTP/1.1\u001b[0m\" 200 -\n",
      "172.28.0.2 - - [27/Apr/2020 03:15:29] \"\u001b[37mPOST /update HTTP/1.1\u001b[0m\" 200 -\n",
      "172.28.0.2 - - [27/Apr/2020 03:15:29] \"\u001b[37mGET /parameters HTTP/1.1\u001b[0m\" 200 -\n",
      "172.28.0.2 - - [27/Apr/2020 03:15:29] \"\u001b[37mPOST /update HTTP/1.1\u001b[0m\" 200 -\n",
      "172.28.0.2 - - [27/Apr/2020 03:15:29] \"\u001b[37mGET /parameters HTTP/1.1\u001b[0m\" 200 -\n",
      "172.28.0.2 - - [27/Apr/2020 03:15:29] \"\u001b[37mPOST /update HTTP/1.1\u001b[0m\" 200 -\n",
      "172.28.0.2 - - [27/Apr/2020 03:15:29] \"\u001b[37mGET /parameters HTTP/1.1\u001b[0m\" 200 -\n",
      "172.28.0.2 - - [27/Apr/2020 03:15:30] \"\u001b[37mPOST /update HTTP/1.1\u001b[0m\" 200 -\n",
      "172.28.0.2 - - [27/Apr/2020 03:15:30] \"\u001b[37mGET /parameters HTTP/1.1\u001b[0m\" 200 -\n",
      "172.28.0.2 - - [27/Apr/2020 03:15:33] \"\u001b[37mPOST /update HTTP/1.1\u001b[0m\" 200 -\n",
      "172.28.0.2 - - [27/Apr/2020 03:15:33] \"\u001b[37mGET /parameters HTTP/1.1\u001b[0m\" 200 -\n",
      "172.28.0.2 - - [27/Apr/2020 03:15:34] \"\u001b[37mPOST /update HTTP/1.1\u001b[0m\" 200 -\n",
      "172.28.0.2 - - [27/Apr/2020 03:15:34] \"\u001b[37mGET /parameters HTTP/1.1\u001b[0m\" 200 -\n",
      "172.28.0.2 - - [27/Apr/2020 03:15:34] \"\u001b[37mPOST /update HTTP/1.1\u001b[0m\" 200 -\n",
      "172.28.0.2 - - [27/Apr/2020 03:15:34] \"\u001b[37mGET /parameters HTTP/1.1\u001b[0m\" 200 -\n",
      "172.28.0.2 - - [27/Apr/2020 03:15:35] \"\u001b[37mPOST /update HTTP/1.1\u001b[0m\" 200 -\n",
      "172.28.0.2 - - [27/Apr/2020 03:15:35] \"\u001b[37mGET /parameters HTTP/1.1\u001b[0m\" 200 -\n",
      "172.28.0.2 - - [27/Apr/2020 03:15:37] \"\u001b[37mPOST /update HTTP/1.1\u001b[0m\" 200 -\n",
      "172.28.0.2 - - [27/Apr/2020 03:15:37] \"\u001b[37mGET /parameters HTTP/1.1\u001b[0m\" 200 -\n",
      "172.28.0.2 - - [27/Apr/2020 03:15:39] \"\u001b[37mPOST /update HTTP/1.1\u001b[0m\" 200 -\n",
      "172.28.0.2 - - [27/Apr/2020 03:15:39] \"\u001b[37mGET /parameters HTTP/1.1\u001b[0m\" 200 -\n",
      "172.28.0.2 - - [27/Apr/2020 03:15:39] \"\u001b[37mPOST /update HTTP/1.1\u001b[0m\" 200 -\n",
      "172.28.0.2 - - [27/Apr/2020 03:15:39] \"\u001b[37mGET /parameters HTTP/1.1\u001b[0m\" 200 -\n",
      "172.28.0.2 - - [27/Apr/2020 03:15:40] \"\u001b[37mPOST /update HTTP/1.1\u001b[0m\" 200 -\n",
      "172.28.0.2 - - [27/Apr/2020 03:15:40] \"\u001b[37mGET /parameters HTTP/1.1\u001b[0m\" 200 -\n",
      "172.28.0.2 - - [27/Apr/2020 03:15:41] \"\u001b[37mPOST /update HTTP/1.1\u001b[0m\" 200 -\n",
      "172.28.0.2 - - [27/Apr/2020 03:15:41] \"\u001b[37mGET /parameters HTTP/1.1\u001b[0m\" 200 -\n",
      "172.28.0.2 - - [27/Apr/2020 03:15:44] \"\u001b[37mPOST /update HTTP/1.1\u001b[0m\" 200 -\n",
      "172.28.0.2 - - [27/Apr/2020 03:15:44] \"\u001b[37mGET /parameters HTTP/1.1\u001b[0m\" 200 -\n",
      "172.28.0.2 - - [27/Apr/2020 03:15:45] \"\u001b[37mPOST /update HTTP/1.1\u001b[0m\" 200 -\n",
      "172.28.0.2 - - [27/Apr/2020 03:15:45] \"\u001b[37mGET /parameters HTTP/1.1\u001b[0m\" 200 -\n",
      "172.28.0.2 - - [27/Apr/2020 03:15:45] \"\u001b[37mPOST /update HTTP/1.1\u001b[0m\" 200 -\n",
      "172.28.0.2 - - [27/Apr/2020 03:15:45] \"\u001b[37mGET /parameters HTTP/1.1\u001b[0m\" 200 -\n",
      "172.28.0.2 - - [27/Apr/2020 03:15:46] \"\u001b[37mPOST /update HTTP/1.1\u001b[0m\" 200 -\n",
      "172.28.0.2 - - [27/Apr/2020 03:15:48] \"\u001b[37mPOST /update HTTP/1.1\u001b[0m\" 200 -\n",
      "172.28.0.2 - - [27/Apr/2020 03:15:48] \"\u001b[37mGET /parameters HTTP/1.1\u001b[0m\" 200 -\n",
      "172.28.0.2 - - [27/Apr/2020 03:15:49] \"\u001b[37mPOST /update HTTP/1.1\u001b[0m\" 200 -\n",
      "172.28.0.2 - - [27/Apr/2020 03:15:49] \"\u001b[37mGET /parameters HTTP/1.1\u001b[0m\" 200 -\n",
      "172.28.0.2 - - [27/Apr/2020 03:15:49] \"\u001b[37mPOST /update HTTP/1.1\u001b[0m\" 200 -\n",
      "172.28.0.2 - - [27/Apr/2020 03:15:49] \"\u001b[37mGET /parameters HTTP/1.1\u001b[0m\" 200 -\n",
      "172.28.0.2 - - [27/Apr/2020 03:15:52] \"\u001b[37mPOST /update HTTP/1.1\u001b[0m\" 200 -\n",
      "172.28.0.2 - - [27/Apr/2020 03:15:52] \"\u001b[37mGET /parameters HTTP/1.1\u001b[0m\" 200 -\n",
      "172.28.0.2 - - [27/Apr/2020 03:15:52] \"\u001b[37mPOST /update HTTP/1.1\u001b[0m\" 200 -\n",
      "172.28.0.2 - - [27/Apr/2020 03:15:52] \"\u001b[37mGET /parameters HTTP/1.1\u001b[0m\" 200 -\n",
      "172.28.0.2 - - [27/Apr/2020 03:15:53] \"\u001b[37mPOST /update HTTP/1.1\u001b[0m\" 200 -\n",
      "172.28.0.2 - - [27/Apr/2020 03:15:53] \"\u001b[37mGET /parameters HTTP/1.1\u001b[0m\" 200 -\n",
      "172.28.0.2 - - [27/Apr/2020 03:15:56] \"\u001b[37mPOST /update HTTP/1.1\u001b[0m\" 200 -\n",
      "172.28.0.2 - - [27/Apr/2020 03:15:56] \"\u001b[37mPOST /update HTTP/1.1\u001b[0m\" 200 -\n",
      "172.28.0.2 - - [27/Apr/2020 03:15:56] \"\u001b[37mPOST /update HTTP/1.1\u001b[0m\" 200 -\n",
      "172.28.0.2 - - [27/Apr/2020 03:15:56] \"\u001b[37mGET /parameters HTTP/1.1\u001b[0m\" 200 -\n",
      "172.28.0.2 - - [27/Apr/2020 03:15:56] \"\u001b[37mGET /parameters HTTP/1.1\u001b[0m\" 200 -\n",
      "172.28.0.2 - - [27/Apr/2020 03:15:58] \"\u001b[37mPOST /update HTTP/1.1\u001b[0m\" 200 -\n",
      "172.28.0.2 - - [27/Apr/2020 03:15:58] \"\u001b[37mPOST /update HTTP/1.1\u001b[0m\" 200 -\n",
      "172.28.0.2 - - [27/Apr/2020 03:15:59] \"\u001b[37mGET /parameters HTTP/1.1\u001b[0m\" 200 -\n"
     ]
    },
    {
     "name": "stdout",
     "output_type": "stream",
     "text": [
      ">>> Async training complete.\n"
     ]
    }
   ],
   "source": [
    "# train LSTM model using PySpark\n",
    "np.random.seed(66)\n",
    "\n",
    "# Create RDD from training data.\n",
    "rdd = to_simple_rdd(sc, X_train, y_train)\n",
    "\n",
    "# building LSTM model\n",
    "model = Sequential()\n",
    "model.add(Dense(input_shape=(timesteps, nb_features),units=300))\n",
    "#model.add(LSTM(input_shape=(timesteps, nb_features),units=100,return_sequences=True))\n",
    "model.add(Dropout(0.3))\n",
    "model.add(LSTM(units=200))\n",
    "model.add(Dropout(0.2))\n",
    "model.add(Dense(units=nb_out, activation='sigmoid'))\n",
    "model.compile(loss='binary_crossentropy', optimizer='rmsprop')\n",
    "\n",
    "print(model.summary())\n",
    "\n",
    "# train model using PySpark\n",
    "lstm_model = SparkModel(model, frequency='epoch', mode='asynchronous')\n",
    "lstm_model.fit(rdd, epochs = 20, batch_size =200 , verbose = 1, validation_split=0.1)\n"
   ]
  },
  {
   "cell_type": "code",
   "execution_count": 64,
   "metadata": {
    "colab": {
     "base_uri": "https://localhost:8080/",
     "height": 377
    },
    "colab_type": "code",
    "id": "6Lx3nSnLoMdY",
    "outputId": "389a7ab7-f087-447b-85e4-9c2ec84b14cb"
   },
   "outputs": [
    {
     "name": "stdout",
     "output_type": "stream",
     "text": [
      "Accuracy : 0.8743\n",
      "AUC score : 0.6028\n",
      "\n",
      "Classification report : \n",
      "               precision    recall  f1-score   support\n",
      "\n",
      "         0.0       0.87      1.00      0.93      2406\n",
      "         1.0       0.00      0.00      0.00       346\n",
      "\n",
      "    accuracy                           0.87      2752\n",
      "   macro avg       0.44      0.50      0.47      2752\n",
      "weighted avg       0.76      0.87      0.82      2752\n",
      "\n",
      "\n",
      "Confusion matrix : \n",
      " [[2406    0]\n",
      " [ 346    0]]\n"
     ]
    },
    {
     "name": "stderr",
     "output_type": "stream",
     "text": [
      "/usr/local/lib/python3.6/dist-packages/sklearn/metrics/_classification.py:1272: UndefinedMetricWarning: Precision and F-score are ill-defined and being set to 0.0 in labels with no predicted samples. Use `zero_division` parameter to control this behavior.\n",
      "  _warn_prf(average, modifier, msg_start, len(result))\n"
     ]
    },
    {
     "data": {
      "text/plain": [
       "(0.8742732558139535, 0.6028077686323691)"
      ]
     },
     "execution_count": 64,
     "metadata": {
      "tags": []
     },
     "output_type": "execute_result"
    }
   ],
   "source": [
    "def evaluate(y_true, y_pred, y_pred_proba):\n",
    "    acc = accuracy_score(y_true, y_pred)\n",
    "    auc = roc_auc_score(y_true, y_pred_proba)\n",
    "    print (\"Accuracy : {:.4f}\".format(acc))\n",
    "    print(\"AUC score : {:.4f}\".format(auc))\n",
    "    print(\"\\nClassification report : \\n\", classification_report(y_true, y_pred))\n",
    "    print(\"\\nConfusion matrix : \\n\", confusion_matrix(y_true, y_pred))\n",
    "    return acc, auc\n",
    "\n",
    "# get test dataset\n",
    "test= df[df.icustay_id.isin(id_test)]\n",
    "\n",
    "X_test = (list(transform(test[test['icustay_id']==icustay_id], timesteps, features)) \n",
    "           for icustay_id in test['icustay_id'].unique())\n",
    "\n",
    "X_test = np.concatenate(list(X_test)).astype(np.float32)\n",
    "\n",
    "\n",
    "# generate labels\n",
    "y_test = [labels(test[test['icustay_id']==icustay_id], timesteps, ['hospital_expire_flag']) \n",
    "             for icustay_id in test['icustay_id'].unique()]\n",
    "y_test = np.concatenate(y_test).astype(np.float32)\n",
    "\n",
    "# calculate y_pred and y_pred_proba\n",
    "y_pred_proba = lstm_model.predict(X_test)\n",
    "y_pred = lstm_model.predict_classes(X_test)\n",
    "y_true = pd.DataFrame(y_test)\n",
    "\n",
    "evaluate(y_true, y_pred, y_pred_proba)\n"
   ]
  },
  {
   "cell_type": "code",
   "execution_count": 65,
   "metadata": {
    "colab": {
     "base_uri": "https://localhost:8080/",
     "height": 421
    },
    "colab_type": "code",
    "id": "b-6T-48GoQ9H",
    "outputId": "fd065720-20a7-4c76-e3df-31a818329ffe"
   },
   "outputs": [
    {
     "data": {
      "text/plain": [
       "<matplotlib.legend.Legend at 0x7f9b540aec18>"
      ]
     },
     "execution_count": 65,
     "metadata": {
      "tags": []
     },
     "output_type": "execute_result"
    },
    {
     "data": {
      "image/png": "[encoded data removed]",
      "text/plain": [
       "<Figure size 432x432 with 1 Axes>"
      ]
     },
     "metadata": {
      "needs_background": "light",
      "tags": []
     },
     "output_type": "display_data"
    }
   ],
   "source": [
    "# Draw ROC-AUC curve\n",
    "import matplotlib.pyplot as plt\n",
    "from sklearn.metrics import roc_auc_score\n",
    "from sklearn.metrics import roc_curve\n",
    "\n",
    "fpr, tpr, _ = roc_curve(y_true, y_pred_proba)\n",
    "roc_auc = roc_auc_score(y_true, y_pred_proba)\n",
    "\n",
    "fig = plt.figure()\n",
    "fig.set_size_inches(6,6)\n",
    "\n",
    "lw = 2\n",
    "plt.plot(fpr, tpr, color='red', lw=lw, label='ROC curve (area = %0.2f)' % roc_auc)\n",
    "plt.plot([0, 1], [0, 1], color='green', lw=lw, linestyle='--')\n",
    "plt.xlim([0.0, 1.0])\n",
    "plt.ylim([0.0, 1.05])\n",
    "plt.xlabel('False Positive Rate')\n",
    "plt.ylabel('True Positive Rate')\n",
    "plt.title('Multivariate LSTM model (PySpark trained)')\n",
    "plt.legend(loc=\"lower right\")"
   ]
  },
  {
   "cell_type": "markdown",
   "metadata": {
    "colab_type": "text",
    "id": "xmLdUhU6xMsL"
   },
   "source": [
    "# **Train LSTM model using GPU**"
   ]
  },
  {
   "cell_type": "code",
   "execution_count": 58,
   "metadata": {
    "colab": {
     "base_uri": "https://localhost:8080/",
     "height": 1000
    },
    "colab_type": "code",
    "id": "JzlLrCeI8Ud2",
    "outputId": "874fcb7b-f1e0-4d4e-9288-18ae911ba81b"
   },
   "outputs": [
    {
     "name": "stdout",
     "output_type": "stream",
     "text": [
      "Model: \"sequential_19\"\n",
      "_________________________________________________________________\n",
      "Layer (type)                 Output Shape              Param #   \n",
      "=================================================================\n",
      "dense_37 (Dense)             (None, 24, 300)           2100      \n",
      "_________________________________________________________________\n",
      "dropout_37 (Dropout)         (None, 24, 300)           0         \n",
      "_________________________________________________________________\n",
      "lstm_19 (LSTM)               (None, 200)               400800    \n",
      "_________________________________________________________________\n",
      "dropout_38 (Dropout)         (None, 200)               0         \n",
      "_________________________________________________________________\n",
      "dense_38 (Dense)             (None, 1)                 201       \n",
      "=================================================================\n",
      "Total params: 403,101\n",
      "Trainable params: 403,101\n",
      "Non-trainable params: 0\n",
      "_________________________________________________________________\n",
      "None\n",
      "Train on 17486 samples, validate on 1943 samples\n",
      "Epoch 1/30\n",
      " - 5s - loss: 0.7089 - accuracy: 0.5437 - val_loss: 0.7712 - val_accuracy: 0.3582\n",
      "Epoch 2/30\n",
      " - 4s - loss: 0.6856 - accuracy: 0.5627 - val_loss: 0.7489 - val_accuracy: 0.2702\n",
      "Epoch 3/30\n",
      " - 4s - loss: 0.6811 - accuracy: 0.5759 - val_loss: 0.8701 - val_accuracy: 0.0859\n",
      "Epoch 4/30\n",
      " - 4s - loss: 0.6798 - accuracy: 0.5763 - val_loss: 0.7929 - val_accuracy: 0.1879\n",
      "Epoch 5/30\n",
      " - 4s - loss: 0.6773 - accuracy: 0.5850 - val_loss: 0.8603 - val_accuracy: 0.2280\n",
      "Epoch 6/30\n",
      " - 4s - loss: 0.6779 - accuracy: 0.5773 - val_loss: 0.6819 - val_accuracy: 0.5250\n",
      "Epoch 7/30\n",
      " - 4s - loss: 0.6727 - accuracy: 0.5933 - val_loss: 0.7153 - val_accuracy: 0.4560\n",
      "Epoch 8/30\n",
      " - 4s - loss: 0.6742 - accuracy: 0.5903 - val_loss: 0.8064 - val_accuracy: 0.2851\n",
      "Epoch 9/30\n",
      " - 4s - loss: 0.6716 - accuracy: 0.5942 - val_loss: 0.7878 - val_accuracy: 0.3294\n",
      "Epoch 10/30\n",
      " - 4s - loss: 0.6707 - accuracy: 0.5939 - val_loss: 0.7218 - val_accuracy: 0.4056\n",
      "Epoch 11/30\n",
      " - 4s - loss: 0.6722 - accuracy: 0.5939 - val_loss: 0.8690 - val_accuracy: 0.2192\n",
      "Epoch 12/30\n",
      " - 4s - loss: 0.6721 - accuracy: 0.5915 - val_loss: 0.8663 - val_accuracy: 0.1276\n",
      "Epoch 13/30\n",
      " - 4s - loss: 0.6720 - accuracy: 0.5934 - val_loss: 0.7500 - val_accuracy: 0.3541\n",
      "Epoch 14/30\n",
      " - 4s - loss: 0.6710 - accuracy: 0.5904 - val_loss: 0.8401 - val_accuracy: 0.2990\n",
      "Epoch 15/30\n",
      " - 4s - loss: 0.6696 - accuracy: 0.5933 - val_loss: 0.8183 - val_accuracy: 0.1909\n",
      "Epoch 16/30\n",
      " - 4s - loss: 0.6702 - accuracy: 0.5922 - val_loss: 0.9001 - val_accuracy: 0.2038\n",
      "Epoch 17/30\n",
      " - 4s - loss: 0.6679 - accuracy: 0.6040 - val_loss: 0.6873 - val_accuracy: 0.4632\n",
      "Epoch 18/30\n",
      " - 4s - loss: 0.6677 - accuracy: 0.5998 - val_loss: 0.7275 - val_accuracy: 0.4287\n",
      "Epoch 19/30\n",
      " - 4s - loss: 0.6684 - accuracy: 0.6000 - val_loss: 0.7717 - val_accuracy: 0.3989\n",
      "Epoch 20/30\n",
      " - 4s - loss: 0.6687 - accuracy: 0.5991 - val_loss: 0.6298 - val_accuracy: 0.5620\n",
      "Epoch 21/30\n",
      " - 4s - loss: 0.6677 - accuracy: 0.6019 - val_loss: 0.7956 - val_accuracy: 0.2856\n",
      "Epoch 22/30\n",
      " - 4s - loss: 0.6672 - accuracy: 0.5986 - val_loss: 0.8591 - val_accuracy: 0.1786\n",
      "Epoch 23/30\n",
      " - 4s - loss: 0.6666 - accuracy: 0.6035 - val_loss: 0.7886 - val_accuracy: 0.2970\n",
      "Epoch 24/30\n",
      " - 4s - loss: 0.6670 - accuracy: 0.6012 - val_loss: 0.7479 - val_accuracy: 0.3953\n",
      "Epoch 25/30\n",
      " - 4s - loss: 0.6655 - accuracy: 0.6020 - val_loss: 0.8944 - val_accuracy: 0.1215\n",
      "Epoch 26/30\n",
      " - 4s - loss: 0.6670 - accuracy: 0.5966 - val_loss: 0.8671 - val_accuracy: 0.1323\n",
      "Epoch 27/30\n",
      " - 4s - loss: 0.6670 - accuracy: 0.6015 - val_loss: 0.8644 - val_accuracy: 0.2192\n",
      "Epoch 28/30\n",
      " - 4s - loss: 0.6657 - accuracy: 0.6003 - val_loss: 0.5820 - val_accuracy: 0.6644\n",
      "Epoch 29/30\n",
      " - 4s - loss: 0.6650 - accuracy: 0.6044 - val_loss: 0.7576 - val_accuracy: 0.3664\n",
      "Epoch 30/30\n",
      " - 4s - loss: 0.6659 - accuracy: 0.6019 - val_loss: 0.7477 - val_accuracy: 0.3881\n"
     ]
    }
   ],
   "source": [
    "# train LSTM model using GPU\n",
    "import tensorflow as tf\n",
    "import timeit\n",
    "np.random.RandomState(seed=66)\n",
    "def gpu(X_train, y_train):\n",
    "  with tf.device('/device:GPU:0'):\n",
    "\n",
    "    # building LSTM model\n",
    "    model = Sequential()\n",
    "    model.add(Dense(input_shape=(timesteps, nb_features),units=300))\n",
    "    #model.add(LSTM(input_shape=(timesteps, nb_features),units=100,return_sequences=True))\n",
    "    model.add(Dropout(0.3))\n",
    "    model.add(LSTM(units=200))\n",
    "    model.add(Dropout(0.2))\n",
    "    model.add(Dense(units=nb_out, activation='sigmoid'))\n",
    "    model.compile(loss='binary_crossentropy', optimizer='rmsprop',metrics=['accuracy'])\n",
    "\n",
    "    print(model.summary())\n",
    "    model.fit(X_train, y_train, epochs=30, batch_size=200, validation_split=0.1, verbose=2)\n",
    "\n",
    "    return model\n",
    "lstm_model = gpu(X_train, y_train)\n",
    "#gpu_time = timeit.timeit('gpu()', number=2, setup=\"from __main__ import gpu\")\n",
    "#print(\"GPU :\",gpu_time)"
   ]
  },
  {
   "cell_type": "code",
   "execution_count": 59,
   "metadata": {
    "colab": {
     "base_uri": "https://localhost:8080/",
     "height": 323
    },
    "colab_type": "code",
    "id": "9zXpD2M1v4p4",
    "outputId": "4b91106c-5077-477e-f0fa-1b8c963a3237"
   },
   "outputs": [
    {
     "name": "stdout",
     "output_type": "stream",
     "text": [
      "Accuracy : 0.7424\n",
      "AUC score : 0.6751\n",
      "\n",
      "Classification report : \n",
      "               precision    recall  f1-score   support\n",
      "\n",
      "         0.0       0.91      0.78      0.84      2406\n",
      "         1.0       0.23      0.46      0.31       346\n",
      "\n",
      "    accuracy                           0.74      2752\n",
      "   macro avg       0.57      0.62      0.58      2752\n",
      "weighted avg       0.82      0.74      0.77      2752\n",
      "\n",
      "\n",
      "Confusion matrix : \n",
      " [[1884  522]\n",
      " [ 187  159]]\n"
     ]
    },
    {
     "data": {
      "text/plain": [
       "(0.7423691860465116, 0.6750560977133275)"
      ]
     },
     "execution_count": 59,
     "metadata": {
      "tags": []
     },
     "output_type": "execute_result"
    }
   ],
   "source": [
    "def evaluate(y_true, y_pred, y_pred_proba):\n",
    "    acc = accuracy_score(y_true, y_pred)\n",
    "    auc = roc_auc_score(y_true, y_pred_proba)\n",
    "    print (\"Accuracy : {:.4f}\".format(acc))\n",
    "    print(\"AUC score : {:.4f}\".format(auc))\n",
    "    print(\"\\nClassification report : \\n\", classification_report(y_true, y_pred))\n",
    "    print(\"\\nConfusion matrix : \\n\", confusion_matrix(y_true, y_pred))\n",
    "    return acc, auc\n",
    "\n",
    "# get test dataset\n",
    "test= df[df.icustay_id.isin(id_test)]\n",
    "\n",
    "X_test = (list(transform(test[test['icustay_id']==icustay_id], timesteps, features)) \n",
    "           for icustay_id in test['icustay_id'].unique())\n",
    "\n",
    "X_test = np.concatenate(list(X_test)).astype(np.float32)\n",
    "\n",
    "\n",
    "# generate labels\n",
    "y_test = [labels(test[test['icustay_id']==icustay_id], timesteps, ['hospital_expire_flag']) \n",
    "             for icustay_id in test['icustay_id'].unique()]\n",
    "y_test = np.concatenate(y_test).astype(np.float32)\n",
    "\n",
    "# calculate y_pred and y_pred_proba\n",
    "y_pred_proba = lstm_model.predict(X_test)\n",
    "y_pred = lstm_model.predict_classes(X_test)\n",
    "y_true = pd.DataFrame(y_test)\n",
    "\n",
    "evaluate(y_true, y_pred, y_pred_proba)\n"
   ]
  },
  {
   "cell_type": "code",
   "execution_count": 62,
   "metadata": {
    "colab": {
     "base_uri": "https://localhost:8080/",
     "height": 421
    },
    "colab_type": "code",
    "id": "MCnBmae4lDlR",
    "outputId": "38158be9-50a8-43d6-d461-4c6b959c77c7"
   },
   "outputs": [
    {
     "data": {
      "text/plain": [
       "<matplotlib.legend.Legend at 0x7f9b542166a0>"
      ]
     },
     "execution_count": 62,
     "metadata": {
      "tags": []
     },
     "output_type": "execute_result"
    },
    {
     "data": {
      "image/png": "[encoded data removed]",
      "text/plain": [
       "<Figure size 432x432 with 1 Axes>"
      ]
     },
     "metadata": {
      "needs_background": "light",
      "tags": []
     },
     "output_type": "display_data"
    }
   ],
   "source": [
    "import matplotlib.pyplot as plt\n",
    "from sklearn.metrics import roc_auc_score\n",
    "from sklearn.metrics import roc_curve\n",
    "\n",
    "fpr, tpr, _ = roc_curve(y_true, y_pred_proba)\n",
    "roc_auc = roc_auc_score(y_true, y_pred_proba)\n",
    "\n",
    "fig = plt.figure()\n",
    "fig.set_size_inches(6,6)\n",
    "\n",
    "lw = 2\n",
    "plt.plot(fpr, tpr, color='red', lw=lw, label='ROC curve (area = %0.2f)' % roc_auc)\n",
    "plt.plot([0, 1], [0, 1], color='green', lw=lw, linestyle='--')\n",
    "plt.xlim([0.0, 1.0])\n",
    "plt.ylim([0.0, 1.05])\n",
    "plt.xlabel('False Positive Rate')\n",
    "plt.ylabel('True Positive Rate')\n",
    "plt.title('Multivariate LSTM model (GPU trained)')\n",
    "plt.legend(loc=\"lower right\")"
   ]
  }
 ],
 "metadata": {
  "accelerator": "GPU",
  "colab": {
   "name": "LSTM.ipynb",
   "provenance": []
  },
  "kernelspec": {
   "display_name": "Python 3",
   "language": "python",
   "name": "python3"
  },
  "language_info": {
   "codemirror_mode": {
    "name": "ipython",
    "version": 3
   },
   "file_extension": ".py",
   "mimetype": "text/x-python",
   "name": "python",
   "nbconvert_exporter": "python",
   "pygments_lexer": "ipython3",
   "version": "3.8.3"
  }
 },
 "nbformat": 4,
 "nbformat_minor": 4
}
